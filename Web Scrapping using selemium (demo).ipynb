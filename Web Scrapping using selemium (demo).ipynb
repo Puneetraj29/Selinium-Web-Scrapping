{
 "cells": [
  {
   "cell_type": "code",
   "execution_count": 73,
   "metadata": {},
   "outputs": [],
   "source": [
    "import selenium\n",
    "from selenium import webdriver as wb\n",
    "webD=wb.Chrome('chromedriver.exe')\n",
    "webD.get('https://webscraper.io/test-sites/e-commerce/static')"
   ]
  },
  {
   "cell_type": "code",
   "execution_count": 68,
   "metadata": {},
   "outputs": [],
   "source": [
    "clickObj=webD.find_element_by_xpath('//*[@id=\"side-menu\"]/li[2]/a')"
   ]
  },
  {
   "cell_type": "code",
   "execution_count": 69,
   "metadata": {},
   "outputs": [],
   "source": [
    "clickObj.click()"
   ]
  },
  {
   "cell_type": "code",
   "execution_count": 70,
   "metadata": {},
   "outputs": [],
   "source": [
    "webD.find_element_by_xpath('//*[@id=\"side-menu\"]/li[2]/ul/li[1]/a').click()"
   ]
  },
  {
   "cell_type": "code",
   "execution_count": 71,
   "metadata": {},
   "outputs": [],
   "source": [
    "ll=webD.find_element_by_xpath('/html/body/div[1]/div[3]/div/div[2]/div')"
   ]
  },
  {
   "cell_type": "code",
   "execution_count": 72,
   "metadata": {},
   "outputs": [],
   "source": [
    "productInfoList=webD.find_elements_by_class_name('thumbnail')"
   ]
  },
  {
   "cell_type": "code",
   "execution_count": 54,
   "metadata": {},
   "outputs": [
    {
     "name": "stdout",
     "output_type": "stream",
     "text": [
      "Next »\n",
      "Next »\n",
      "Next »\n",
      "Next »\n",
      "Next »\n",
      "Next »\n",
      "Next »\n",
      "Next »\n",
      "Next »\n",
      "Next »\n",
      "Next »\n",
      "Next »\n",
      "Next »\n",
      "Next »\n",
      "Next »\n",
      "Next »\n",
      "Next »\n",
      "Next »\n",
      "None\n"
     ]
    }
   ],
   "source": [
    "listOflinks=[]\n",
    "condition=True\n",
    "while condition:\n",
    "    productInfoList=webD.find_elements_by_class_name('thumbnail')\n",
    "    for el in productInfoList:\n",
    "        ppp1=el.find_elements_by_tag_name('h4')[-1]\n",
    "        pp2=ppp1.find_element_by_tag_name('a')\n",
    "        listOflinks.append(pp2.get_property('href'))\n",
    "    try:\n",
    "#         webD.find_element_by_xpath('/html/body/div[1]/div[3]/div/div[2]/ul/li[13]/a').click()\n",
    "        kk= webD.find_elements_by_class_name('page-link')[-1]\n",
    "        print (kk.get_attribute('aria-label'))\n",
    "        if kk.get_attribute('aria-label')== 'Next »':\n",
    "            kk.click()\n",
    "        else:\n",
    "            condition=False            \n",
    "    except:\n",
    "        condition=False"
   ]
  },
  {
   "cell_type": "code",
   "execution_count": null,
   "metadata": {},
   "outputs": [],
   "source": [
    "listOflinks"
   ]
  },
  {
   "cell_type": "code",
   "execution_count": 58,
   "metadata": {},
   "outputs": [
    {
     "name": "stderr",
     "output_type": "stream",
     "text": [
      "100%|████████████████████████████████████████████████████████████████████████████████| 111/111 [02:33<00:00,  1.38s/it]\n"
     ]
    }
   ],
   "source": [
    "from tqdm import tqdm\n",
    "alldetails=[]\n",
    "for i in tqdm(listOflinks):\n",
    "    webD.get(i)\n",
    "    nameoftheproduct=webD.find_element_by_xpath('/html/body/div[1]/div[3]/div/div[2]/div/div/div[2]/div[1]/h4[2]').text\n",
    "    descriptionOfProduct=webD.find_element_by_xpath('/html/body/div[1]/div[3]/div/div[2]/div/div/div[2]/div[1]/p').text\n",
    "    priceProduct=webD.find_element_by_xpath('/html/body/div[1]/div[3]/div/div[2]/div/div/div[2]/div[1]/h4[1]').text\n",
    "    tempJ={'nameoftheproduct':nameoftheproduct,\n",
    "      'priceProduct':priceProduct,\n",
    "      'descriptionOfProduct':descriptionOfProduct,\n",
    "      'linkofProduct':i}\n",
    "    alldetails.append(tempJ)"
   ]
  },
  {
   "cell_type": "code",
   "execution_count": null,
   "metadata": {},
   "outputs": [],
   "source": []
  },
  {
   "cell_type": "code",
   "execution_count": 59,
   "metadata": {},
   "outputs": [],
   "source": [
    "import pandas as pd"
   ]
  },
  {
   "cell_type": "code",
   "execution_count": 60,
   "metadata": {},
   "outputs": [
    {
     "data": {
      "text/html": [
       "<div>\n",
       "<style scoped>\n",
       "    .dataframe tbody tr th:only-of-type {\n",
       "        vertical-align: middle;\n",
       "    }\n",
       "\n",
       "    .dataframe tbody tr th {\n",
       "        vertical-align: top;\n",
       "    }\n",
       "\n",
       "    .dataframe thead th {\n",
       "        text-align: right;\n",
       "    }\n",
       "</style>\n",
       "<table border=\"1\" class=\"dataframe\">\n",
       "  <thead>\n",
       "    <tr style=\"text-align: right;\">\n",
       "      <th></th>\n",
       "      <th>nameoftheproduct</th>\n",
       "      <th>priceProduct</th>\n",
       "      <th>descriptionOfProduct</th>\n",
       "      <th>linkofProduct</th>\n",
       "    </tr>\n",
       "  </thead>\n",
       "  <tbody>\n",
       "    <tr>\n",
       "      <td>0</td>\n",
       "      <td>ThinkPad Yoga</td>\n",
       "      <td>$1033.99</td>\n",
       "      <td>12.5\" Touch, Core i3-4010U, 4GB, 500GB + 16GB ...</td>\n",
       "      <td>https://webscraper.io/test-sites/e-commerce/st...</td>\n",
       "    </tr>\n",
       "    <tr>\n",
       "      <td>1</td>\n",
       "      <td>Pavilion</td>\n",
       "      <td>$609.99</td>\n",
       "      <td>15.6\", Core i5-4200U, 6GB, 750GB, Windows 8.1</td>\n",
       "      <td>https://webscraper.io/test-sites/e-commerce/st...</td>\n",
       "    </tr>\n",
       "    <tr>\n",
       "      <td>2</td>\n",
       "      <td>Inspiron 15</td>\n",
       "      <td>$745.99</td>\n",
       "      <td>Moon Silver, 15.6\", Core i7-4510U, 8GB, 1TB, R...</td>\n",
       "      <td>https://webscraper.io/test-sites/e-commerce/st...</td>\n",
       "    </tr>\n",
       "    <tr>\n",
       "      <td>3</td>\n",
       "      <td>Dell XPS 13</td>\n",
       "      <td>$1281.99</td>\n",
       "      <td>13.3\" Touch, Core i5-4210U, 8GB, 128GB SSD, Wi...</td>\n",
       "      <td>https://webscraper.io/test-sites/e-commerce/st...</td>\n",
       "    </tr>\n",
       "    <tr>\n",
       "      <td>4</td>\n",
       "      <td>ThinkPad X230</td>\n",
       "      <td>$1244.99</td>\n",
       "      <td>12.5\", Core i5 2.6GHz, 8GB, 180GB SSD, Win7 Pr...</td>\n",
       "      <td>https://webscraper.io/test-sites/e-commerce/st...</td>\n",
       "    </tr>\n",
       "    <tr>\n",
       "      <td>...</td>\n",
       "      <td>...</td>\n",
       "      <td>...</td>\n",
       "      <td>...</td>\n",
       "      <td>...</td>\n",
       "    </tr>\n",
       "    <tr>\n",
       "      <td>106</td>\n",
       "      <td>Lenovo ThinkPad T470</td>\n",
       "      <td>$1349.23</td>\n",
       "      <td>Lenovo ThinkPad T470, 14\" FHD IPS, Core i5-720...</td>\n",
       "      <td>https://webscraper.io/test-sites/e-commerce/st...</td>\n",
       "    </tr>\n",
       "    <tr>\n",
       "      <td>107</td>\n",
       "      <td>Lenovo ThinkPad Yoga 370 Black</td>\n",
       "      <td>$1362.24</td>\n",
       "      <td>Lenovo ThinkPad Yoga 370 Black, 13.3\" FHD IPS ...</td>\n",
       "      <td>https://webscraper.io/test-sites/e-commerce/st...</td>\n",
       "    </tr>\n",
       "    <tr>\n",
       "      <td>108</td>\n",
       "      <td>Toshiba Portege X20W-D-10V Black/Blue</td>\n",
       "      <td>$1366.32</td>\n",
       "      <td>Toshiba Portege X20W-D-10V Black/Blue, 12.5\" F...</td>\n",
       "      <td>https://webscraper.io/test-sites/e-commerce/st...</td>\n",
       "    </tr>\n",
       "    <tr>\n",
       "      <td>109</td>\n",
       "      <td>Asus ASUSPRO B9440UA-GV0279R Gray</td>\n",
       "      <td>$1381.13</td>\n",
       "      <td>Asus ASUSPRO B9440UA-GV0279R Gray, 14\" FHD, Co...</td>\n",
       "      <td>https://webscraper.io/test-sites/e-commerce/st...</td>\n",
       "    </tr>\n",
       "    <tr>\n",
       "      <td>110</td>\n",
       "      <td>Asus ROG Strix GL702VM-GC146T</td>\n",
       "      <td>$1399.00</td>\n",
       "      <td>Asus ROG Strix GL702VM-GC146T, 17.3\" FHD, Core...</td>\n",
       "      <td>https://webscraper.io/test-sites/e-commerce/st...</td>\n",
       "    </tr>\n",
       "  </tbody>\n",
       "</table>\n",
       "<p>111 rows × 4 columns</p>\n",
       "</div>"
      ],
      "text/plain": [
       "                          nameoftheproduct priceProduct  \\\n",
       "0                            ThinkPad Yoga     $1033.99   \n",
       "1                                 Pavilion      $609.99   \n",
       "2                              Inspiron 15      $745.99   \n",
       "3                              Dell XPS 13     $1281.99   \n",
       "4                            ThinkPad X230     $1244.99   \n",
       "..                                     ...          ...   \n",
       "106                   Lenovo ThinkPad T470     $1349.23   \n",
       "107         Lenovo ThinkPad Yoga 370 Black     $1362.24   \n",
       "108  Toshiba Portege X20W-D-10V Black/Blue     $1366.32   \n",
       "109      Asus ASUSPRO B9440UA-GV0279R Gray     $1381.13   \n",
       "110          Asus ROG Strix GL702VM-GC146T     $1399.00   \n",
       "\n",
       "                                  descriptionOfProduct  \\\n",
       "0    12.5\" Touch, Core i3-4010U, 4GB, 500GB + 16GB ...   \n",
       "1        15.6\", Core i5-4200U, 6GB, 750GB, Windows 8.1   \n",
       "2    Moon Silver, 15.6\", Core i7-4510U, 8GB, 1TB, R...   \n",
       "3    13.3\" Touch, Core i5-4210U, 8GB, 128GB SSD, Wi...   \n",
       "4    12.5\", Core i5 2.6GHz, 8GB, 180GB SSD, Win7 Pr...   \n",
       "..                                                 ...   \n",
       "106  Lenovo ThinkPad T470, 14\" FHD IPS, Core i5-720...   \n",
       "107  Lenovo ThinkPad Yoga 370 Black, 13.3\" FHD IPS ...   \n",
       "108  Toshiba Portege X20W-D-10V Black/Blue, 12.5\" F...   \n",
       "109  Asus ASUSPRO B9440UA-GV0279R Gray, 14\" FHD, Co...   \n",
       "110  Asus ROG Strix GL702VM-GC146T, 17.3\" FHD, Core...   \n",
       "\n",
       "                                         linkofProduct  \n",
       "0    https://webscraper.io/test-sites/e-commerce/st...  \n",
       "1    https://webscraper.io/test-sites/e-commerce/st...  \n",
       "2    https://webscraper.io/test-sites/e-commerce/st...  \n",
       "3    https://webscraper.io/test-sites/e-commerce/st...  \n",
       "4    https://webscraper.io/test-sites/e-commerce/st...  \n",
       "..                                                 ...  \n",
       "106  https://webscraper.io/test-sites/e-commerce/st...  \n",
       "107  https://webscraper.io/test-sites/e-commerce/st...  \n",
       "108  https://webscraper.io/test-sites/e-commerce/st...  \n",
       "109  https://webscraper.io/test-sites/e-commerce/st...  \n",
       "110  https://webscraper.io/test-sites/e-commerce/st...  \n",
       "\n",
       "[111 rows x 4 columns]"
      ]
     },
     "execution_count": 60,
     "metadata": {},
     "output_type": "execute_result"
    }
   ],
   "source": [
    "pd.DataFrame(alldetails)"
   ]
  },
  {
   "cell_type": "code",
   "execution_count": null,
   "metadata": {},
   "outputs": [],
   "source": []
  },
  {
   "cell_type": "code",
   "execution_count": null,
   "metadata": {},
   "outputs": [],
   "source": []
  },
  {
   "cell_type": "code",
   "execution_count": null,
   "metadata": {},
   "outputs": [],
   "source": []
  }
 ],
 "metadata": {
  "kernelspec": {
   "display_name": "Python 3",
   "language": "python",
   "name": "python3"
  },
  "language_info": {
   "codemirror_mode": {
    "name": "ipython",
    "version": 3
   },
   "file_extension": ".py",
   "mimetype": "text/x-python",
   "name": "python",
   "nbconvert_exporter": "python",
   "pygments_lexer": "ipython3",
   "version": "3.7.4"
  },
  "toc": {
   "base_numbering": 1,
   "nav_menu": {},
   "number_sections": true,
   "sideBar": true,
   "skip_h1_title": false,
   "title_cell": "Table of Contents",
   "title_sidebar": "Contents",
   "toc_cell": false,
   "toc_position": {},
   "toc_section_display": true,
   "toc_window_display": false
  }
 },
 "nbformat": 4,
 "nbformat_minor": 2
}
